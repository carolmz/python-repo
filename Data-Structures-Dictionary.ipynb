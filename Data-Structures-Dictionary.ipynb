{
 "cells": [
  {
   "cell_type": "markdown",
   "metadata": {},
   "source": [
    "DICTIONARIES"
   ]
  },
  {
   "cell_type": "code",
   "execution_count": 6,
   "metadata": {},
   "outputs": [
    {
     "name": "stdout",
     "output_type": "stream",
     "text": [
      "Original dictionary: {'name': 'Carol', 'lucky number': 7}\n"
     ]
    }
   ],
   "source": [
    "# DICTIONARIES: Key-value pairs, unordered (until Python 3.7+), changeable\n",
    "my_dict = {\n",
    "    \"name\": \"Carol\",\n",
    "    \"lucky number\": 7\n",
    "}\n",
    "print(\"Original dictionary:\", my_dict)"
   ]
  },
  {
   "cell_type": "code",
   "execution_count": 7,
   "metadata": {},
   "outputs": [
    {
     "name": "stdout",
     "output_type": "stream",
     "text": [
      "After adding 'city' and updating 'age': {'name': 'Carol', 'lucky number': 4, 'city': 'Toronto'}\n"
     ]
    }
   ],
   "source": [
    "# Add or update key\n",
    "my_dict[\"city\"] = \"Toronto\"\n",
    "my_dict[\"lucky number\"] = 4\n",
    "print(\"After adding 'city' and updating 'age':\", my_dict)"
   ]
  },
  {
   "cell_type": "code",
   "execution_count": 8,
   "metadata": {},
   "outputs": [
    {
     "name": "stdout",
     "output_type": "stream",
     "text": [
      "After deleting 'name': {'lucky number': 4, 'city': 'Toronto'}\n"
     ]
    }
   ],
   "source": [
    "# Remove a key\n",
    "del my_dict[\"name\"]\n",
    "print(\"After deleting 'name':\", my_dict)"
   ]
  },
  {
   "cell_type": "code",
   "execution_count": 9,
   "metadata": {},
   "outputs": [
    {
     "name": "stdout",
     "output_type": "stream",
     "text": [
      "Looping through dictionary:\n",
      "lucky number: 4\n",
      "city: Toronto\n"
     ]
    }
   ],
   "source": [
    "# Loop through dictionary\n",
    "print(\"Looping through dictionary:\")\n",
    "for key, value in my_dict.items():\n",
    "    print(f\"{key}: {value}\")"
   ]
  }
 ],
 "metadata": {
  "kernelspec": {
   "display_name": "base",
   "language": "python",
   "name": "python3"
  },
  "language_info": {
   "codemirror_mode": {
    "name": "ipython",
    "version": 3
   },
   "file_extension": ".py",
   "mimetype": "text/x-python",
   "name": "python",
   "nbconvert_exporter": "python",
   "pygments_lexer": "ipython3",
   "version": "3.9.18"
  }
 },
 "nbformat": 4,
 "nbformat_minor": 2
}

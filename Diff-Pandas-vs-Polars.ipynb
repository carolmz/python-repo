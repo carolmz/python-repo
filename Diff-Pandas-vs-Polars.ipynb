{
 "cells": [
  {
   "cell_type": "markdown",
   "id": "333323e6",
   "metadata": {},
   "source": [
    "# Comparison: pandas vs polars"
   ]
  },
  {
   "cell_type": "code",
   "execution_count": 34,
   "id": "d8bfce32",
   "metadata": {},
   "outputs": [],
   "source": [
    "import time\n",
    "import pandas as pd\n",
    "import polars as pl\n",
    "import numpy as np"
   ]
  },
  {
   "cell_type": "code",
   "execution_count": 35,
   "id": "82668a57",
   "metadata": {},
   "outputs": [],
   "source": [
    "# Generate 10 million rows of dummy data\n",
    "N = 10_000_000\n",
    "np.random.seed(42)\n",
    "\n",
    "data = {\n",
    "    \"category\": np.random.choice([f\"cat_{i}\" for i in range(100)], size=N),\n",
    "    \"value\": np.random.rand(N) * 100,\n",
    "    \"text\": np.random.choice([\"lorem\", \"ipsum\", \"dolor\", \"sit\", \"amet\"], size=N)\n",
    "}"
   ]
  },
  {
   "cell_type": "code",
   "execution_count": 36,
   "id": "31f5094a",
   "metadata": {},
   "outputs": [
    {
     "name": "stdout",
     "output_type": "stream",
     "text": [
      "=== Using pandas ===\n",
      "  category      value  text_len\n",
      "0    cat_0  75.051195    220028\n",
      "1    cat_1  75.082604    219785\n",
      "2   cat_10  75.002042    219863\n",
      "3   cat_11  74.922810    220084\n",
      "4   cat_12  74.977025    220943\n",
      "Pandas processing time: 5.6125 seconds\n",
      "\n"
     ]
    }
   ],
   "source": [
    "# --------------------- Using pandas ---------------------\n",
    "print(\"=== Using pandas ===\")\n",
    "start = time.time()\n",
    "\n",
    "pdf = pd.DataFrame(data)\n",
    "# Group by and string transformation\n",
    "result_pandas = (\n",
    "    pdf[pdf[\"value\"] > 50]\n",
    "    .assign(text_len=pdf[\"text\"].str.len())\n",
    "    .groupby(\"category\")\n",
    "    .agg({\"value\": \"mean\", \"text_len\": \"sum\"})\n",
    "    .reset_index()\n",
    ")\n",
    "\n",
    "end = time.time()\n",
    "print(result_pandas.head())\n",
    "print(f\"Pandas processing time: {end - start:.4f} seconds\\n\")"
   ]
  },
  {
   "cell_type": "code",
   "execution_count": 37,
   "id": "2554e162",
   "metadata": {},
   "outputs": [
    {
     "name": "stdout",
     "output_type": "stream",
     "text": [
      "=== Using polars (eager) ===\n",
      "shape: (100, 3)\n",
      "┌──────────┬────────────┬────────────────┐\n",
      "│ category ┆ mean_value ┆ total_text_len │\n",
      "│ ---      ┆ ---        ┆ ---            │\n",
      "│ str      ┆ f64        ┆ u32            │\n",
      "╞══════════╪════════════╪════════════════╡\n",
      "│ cat_17   ┆ 74.925938  ┆ 220763         │\n",
      "│ cat_47   ┆ 75.012633  ┆ 220950         │\n",
      "│ cat_95   ┆ 74.952322  ┆ 220159         │\n",
      "│ cat_56   ┆ 74.922823  ┆ 218414         │\n",
      "│ cat_83   ┆ 74.920794  ┆ 218676         │\n",
      "│ …        ┆ …          ┆ …              │\n",
      "│ cat_20   ┆ 74.971972  ┆ 220754         │\n",
      "│ cat_74   ┆ 74.995983  ┆ 220593         │\n",
      "│ cat_92   ┆ 74.954082  ┆ 219034         │\n",
      "│ cat_37   ┆ 75.049318  ┆ 220326         │\n",
      "│ cat_8    ┆ 75.012716  ┆ 220094         │\n",
      "└──────────┴────────────┴────────────────┘\n",
      "Polars (eager) processing time: 6.8452 seconds\n",
      "\n"
     ]
    }
   ],
   "source": [
    "# ---- Using polars (eager execution) ----\n",
    "print(\"=== Using polars (eager) ===\")\n",
    "start = time.time()\n",
    "\n",
    "pldf = pl.DataFrame(data)\n",
    "result_polars = (\n",
    "    pldf\n",
    "    .filter(pl.col(\"value\") > 50)\n",
    "    .with_columns([\n",
    "        pl.col(\"text\").str.len_chars().alias(\"text_len\")\n",
    "    ])\n",
    "    .group_by(\"category\")\n",
    "    .agg([\n",
    "        pl.col(\"value\").mean().alias(\"mean_value\"),\n",
    "        pl.col(\"text_len\").sum().alias(\"total_text_len\")\n",
    "    ])\n",
    ")\n",
    "\n",
    "end = time.time()\n",
    "print(result_polars)\n",
    "print(f\"Polars (eager) processing time: {end - start:.4f} seconds\\n\")"
   ]
  },
  {
   "cell_type": "code",
   "execution_count": 38,
   "id": "0edd76e1",
   "metadata": {},
   "outputs": [
    {
     "name": "stdout",
     "output_type": "stream",
     "text": [
      "=== Using polars (lazy) ===\n",
      "shape: (5, 3)\n",
      "┌──────────┬────────────┬────────────────┐\n",
      "│ category ┆ mean_value ┆ total_text_len │\n",
      "│ ---      ┆ ---        ┆ ---            │\n",
      "│ str      ┆ f64        ┆ u32            │\n",
      "╞══════════╪════════════╪════════════════╡\n",
      "│ cat_3    ┆ 75.050477  ┆ 219344         │\n",
      "│ cat_79   ┆ 75.007775  ┆ 220221         │\n",
      "│ cat_7    ┆ 74.935208  ┆ 219736         │\n",
      "│ cat_76   ┆ 75.015143  ┆ 219640         │\n",
      "│ cat_9    ┆ 75.109316  ┆ 219306         │\n",
      "└──────────┴────────────┴────────────────┘\n",
      "Polars (lazy) processing time: 6.7943 seconds\n",
      "\n"
     ]
    }
   ],
   "source": [
    "# --------------------- Using polars (lazy) ---------------------\n",
    "print(\"=== Using polars (lazy) ===\")\n",
    "start = time.time()\n",
    "\n",
    "pldf_lazy = pl.LazyFrame(data)\n",
    "result_polars = (\n",
    "    pldf_lazy\n",
    "    .filter(pl.col(\"value\") > 50)\n",
    "    .with_columns([\n",
    "        pl.col(\"text\").str.len_chars().alias(\"text_len\")\n",
    "    ])\n",
    "    .group_by(\"category\")\n",
    "    .agg([\n",
    "        pl.col(\"value\").mean().alias(\"mean_value\"),\n",
    "        pl.col(\"text_len\").sum().alias(\"total_text_len\")\n",
    "    ])\n",
    "    .collect()\n",
    ")\n",
    "\n",
    "end = time.time()\n",
    "print(result_polars.head())\n",
    "print(f\"Polars (lazy) processing time: {end - start:.4f} seconds\\n\")"
   ]
  }
 ],
 "metadata": {
  "kernelspec": {
   "display_name": "base",
   "language": "python",
   "name": "python3"
  },
  "language_info": {
   "codemirror_mode": {
    "name": "ipython",
    "version": 3
   },
   "file_extension": ".py",
   "mimetype": "text/x-python",
   "name": "python",
   "nbconvert_exporter": "python",
   "pygments_lexer": "ipython3",
   "version": "3.9.18"
  }
 },
 "nbformat": 4,
 "nbformat_minor": 5
}

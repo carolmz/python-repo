{
 "cells": [
  {
   "cell_type": "markdown",
   "id": "18b5de56",
   "metadata": {},
   "source": [
    "# Import Data from Flat Files"
   ]
  },
  {
   "cell_type": "markdown",
   "id": "3ecfdfeb",
   "metadata": {},
   "source": [
    "We must first import the Pandas library and orher necessary libraries."
   ]
  },
  {
   "cell_type": "code",
   "execution_count": null,
   "id": "0bd09480",
   "metadata": {},
   "outputs": [],
   "source": [
    "import pandas as pd\n",
    "import os\n",
    "from os.path import curdir"
   ]
  },
  {
   "cell_type": "markdown",
   "id": "1814dcbb",
   "metadata": {},
   "source": [
    "## CVS Import"
   ]
  },
  {
   "cell_type": "code",
   "execution_count": null,
   "id": "677a7f1b",
   "metadata": {},
   "outputs": [],
   "source": [
    "csv_path = os.path.join(curdir,'Data','MMA_860_Grocery_Data.csv')\n",
    "print(csv_path)"
   ]
  },
  {
   "cell_type": "markdown",
   "id": "8b5cc1bf",
   "metadata": {},
   "source": [
    "## Excel Import"
   ]
  },
  {
   "cell_type": "code",
   "execution_count": null,
   "id": "3b676e10",
   "metadata": {},
   "outputs": [],
   "source": [
    "xl_path = os.path.join(curdir,'Data',\"MMA_860_Grocery_Data.xlsx\")\n",
    "df_xl = pd.read_excel(xl_path,sheet_name=0,header='infer',index_col=\"Obs\")"
   ]
  },
  {
   "cell_type": "code",
   "execution_count": null,
   "id": "161fd402",
   "metadata": {},
   "outputs": [],
   "source": []
  }
 ],
 "metadata": {
  "kernelspec": {
   "display_name": "Python 3 (ipykernel)",
   "language": "python",
   "name": "python3"
  },
  "language_info": {
   "codemirror_mode": {
    "name": "ipython",
    "version": 3
   },
   "file_extension": ".py",
   "mimetype": "text/x-python",
   "name": "python",
   "nbconvert_exporter": "python",
   "pygments_lexer": "ipython3",
   "version": "3.9.12"
  }
 },
 "nbformat": 4,
 "nbformat_minor": 5
}

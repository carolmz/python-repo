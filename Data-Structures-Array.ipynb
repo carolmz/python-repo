{
 "cells": [
  {
   "cell_type": "markdown",
   "metadata": {},
   "source": [
    "LISTS "
   ]
  },
  {
   "cell_type": "code",
   "execution_count": null,
   "metadata": {},
   "outputs": [
    {
     "name": "stdout",
     "output_type": "stream",
     "text": [
      "Original list: ['A', 20, 30, 40]\n"
     ]
    }
   ],
   "source": [
    "# LISTS: Ordered, changeable, and allow duplicates\n",
    "my_list = [10, 20, 30, 40]\n",
    "print(\"Original list:\", my_list)"
   ]
  },
  {
   "cell_type": "code",
   "execution_count": 8,
   "metadata": {},
   "outputs": [
    {
     "name": "stdout",
     "output_type": "stream",
     "text": [
      "Multiple data type list: [10, 'A', True, 17.02]\n"
     ]
    }
   ],
   "source": [
    "# LISTS: With multiple type of data\n",
    "my_list = [10, 'A', True, 17.02]\n",
    "print(\"Multiple data type list:\", my_list)"
   ]
  },
  {
   "cell_type": "code",
   "execution_count": 9,
   "metadata": {},
   "outputs": [
    {
     "name": "stdout",
     "output_type": "stream",
     "text": [
      "After append(50): [10, 'A', True, 17.02, 50]\n"
     ]
    }
   ],
   "source": [
    "# Append: Add an item\n",
    "my_list.append(50)\n",
    "print(\"After append(50):\", my_list)"
   ]
  },
  {
   "cell_type": "code",
   "execution_count": 10,
   "metadata": {},
   "outputs": [
    {
     "name": "stdout",
     "output_type": "stream",
     "text": [
      "After remove(50): [10, 'A', True, 17.02]\n"
     ]
    }
   ],
   "source": [
    "# Remove: Delete an item by value\n",
    "my_list.remove(50)\n",
    "print(\"After remove(50):\", my_list)"
   ]
  },
  {
   "cell_type": "code",
   "execution_count": 11,
   "metadata": {},
   "outputs": [
    {
     "name": "stdout",
     "output_type": "stream",
     "text": [
      "After changing second element to 'B': [10, 'B', True, 17.02]\n"
     ]
    }
   ],
   "source": [
    "# Update: Change value at index\n",
    "my_list[1] = 'B'\n",
    "print(\"After changing second element to 'B':\", my_list)"
   ]
  },
  {
   "cell_type": "code",
   "execution_count": 12,
   "metadata": {},
   "outputs": [
    {
     "name": "stdout",
     "output_type": "stream",
     "text": [
      "Looping through list:\n",
      "Item: 10\n",
      "Item: B\n",
      "Item: True\n",
      "Item: 17.02\n"
     ]
    }
   ],
   "source": [
    "# Loop through list\n",
    "print(\"Looping through list:\")\n",
    "for item in my_list:\n",
    "    print(\"Item:\", item)"
   ]
  }
 ],
 "metadata": {
  "kernelspec": {
   "display_name": "base",
   "language": "python",
   "name": "python3"
  },
  "language_info": {
   "codemirror_mode": {
    "name": "ipython",
    "version": 3
   },
   "file_extension": ".py",
   "mimetype": "text/x-python",
   "name": "python",
   "nbconvert_exporter": "python",
   "pygments_lexer": "ipython3",
   "version": "3.9.18"
  }
 },
 "nbformat": 4,
 "nbformat_minor": 2
}

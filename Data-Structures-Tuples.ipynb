{
 "cells": [
  {
   "cell_type": "markdown",
   "metadata": {},
   "source": [
    "TUPLES"
   ]
  },
  {
   "cell_type": "code",
   "execution_count": 2,
   "metadata": {},
   "outputs": [
    {
     "name": "stdout",
     "output_type": "stream",
     "text": [
      "Original tuple: (1, 1, 3, 4)\n"
     ]
    }
   ],
   "source": [
    "# TUPLES: Ordered, unchangeable (immutable), and allow duplicates\n",
    "my_tuple = (1, 1, 3, 4)\n",
    "print(\"Original tuple:\", my_tuple)"
   ]
  },
  {
   "cell_type": "code",
   "execution_count": 3,
   "metadata": {},
   "outputs": [
    {
     "name": "stdout",
     "output_type": "stream",
     "text": [
      "Multiple data type tuple: (1, 1, 3, 4, 'A', False)\n"
     ]
    }
   ],
   "source": [
    "# LISTS: With multiple type of data\n",
    "my_tuple = (1, 1, 3, 4, 'A', False)\n",
    "print(\"Multiple data type tuple:\", my_tuple)"
   ]
  },
  {
   "cell_type": "code",
   "execution_count": 4,
   "metadata": {},
   "outputs": [
    {
     "name": "stdout",
     "output_type": "stream",
     "text": [
      "Element at index 1: 1\n"
     ]
    }
   ],
   "source": [
    "# Access elements\n",
    "print(\"Element at index 1:\", my_tuple[1])"
   ]
  },
  {
   "cell_type": "code",
   "execution_count": 5,
   "metadata": {},
   "outputs": [
    {
     "name": "stdout",
     "output_type": "stream",
     "text": [
      "Modified tuple (after append): (1, 1, 3, 4, 'A', False, 5)\n"
     ]
    }
   ],
   "source": [
    "# Tuples can't be changed directly. Convert to list first:\n",
    "temp_list = list(my_tuple)\n",
    "temp_list.append(5)\n",
    "my_tuple = tuple(temp_list)\n",
    "print(\"Modified tuple (after append):\", my_tuple)"
   ]
  }
 ],
 "metadata": {
  "kernelspec": {
   "display_name": "base",
   "language": "python",
   "name": "python3"
  },
  "language_info": {
   "codemirror_mode": {
    "name": "ipython",
    "version": 3
   },
   "file_extension": ".py",
   "mimetype": "text/x-python",
   "name": "python",
   "nbconvert_exporter": "python",
   "pygments_lexer": "ipython3",
   "version": "3.9.18"
  }
 },
 "nbformat": 4,
 "nbformat_minor": 2
}
